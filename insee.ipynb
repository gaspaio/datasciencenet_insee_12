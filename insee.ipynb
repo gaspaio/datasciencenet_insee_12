{
 "metadata": {
  "name": "",
  "signature": "sha256:b39b65294de78f2e3623d57e5a3f88129503970c6c9d9362152058eeed806ab3"
 },
 "nbformat": 3,
 "nbformat_minor": 0,
 "worksheets": [
  {
   "cells": [
    {
     "cell_type": "code",
     "collapsed": false,
     "input": [
      "import pandas as pd, numpy as np"
     ],
     "language": "python",
     "metadata": {},
     "outputs": [],
     "prompt_number": 1
    },
    {
     "cell_type": "markdown",
     "metadata": {},
     "source": [
      "[Am\u00e9lioration de la qualit\u00e9 de saisie en ligne des libell\u00e9s de profession](https://www.datascience.net/fr/challenge/12/details)"
     ]
    },
    {
     "cell_type": "code",
     "collapsed": false,
     "input": [
      "'''\n",
      "BUT: \u00e0 partir d'un r\u00e9f\u00e9renciel (referenciel), proposer \u00e0 l'internaute \n",
      "ayant\u00e9 tapp\u00e9 un lib\u00e9l\u00e9 (professions_non_traitees) 3 lib\u00e9l\u00e9s, dont au moins 1 doit \u00eatre le bon (exemples)\n",
      "\n",
      "Normalisation \n",
      "- capitales \n",
      "- max 6 mots\n",
      "- max 20 chars par mot\n",
      "- \n",
      "- les articles ne sont pas traite\u0301s, certains caracte\u0300res sont ignore\u0301s, etc. \n",
      "\n",
      "Par ailleurs, pour l'attribution d'un code, le programme n'utilise pas \n",
      "la totalite\u0301 des caracte\u0300res du texte saisi pour la profession, \n",
      "et utilise des caracte\u0300res jokers ($ et *).\n",
      "\n",
      "Wildcards dans libel\u00e9s\n",
      "- *:\n",
      "- $:\n",
      "'''"
     ],
     "language": "python",
     "metadata": {},
     "outputs": []
    },
    {
     "cell_type": "code",
     "collapsed": false,
     "input": [
      "# A templacer par ' ', avant normalisation\n",
      "# \n",
      "ignore_list = ['(',')','/','\\\\','\\'','-','_','+',',',':']\n",
      "\n",
      "# Le libelle\u0301 doit e\u0302tre e\u0301crit en lettres capitales et ne doit pas comporter de caracte\u0300res\n",
      "# accentue\u0301s ou exotiques (*,/,&,......)\n",
      "\n",
      "\n",
      "professions_non_traitees = pd.DataFrame.from_csv('data/professions_non_traitees.csv', sep=';')\n",
      "\n",
      "exemples = pd.DataFrame.from_csv('data/exemples.csv', sep=';', index_col=None)"
     ],
     "language": "python",
     "metadata": {},
     "outputs": [],
     "prompt_number": 9
    },
    {
     "cell_type": "code",
     "collapsed": false,
     "input": [
      "'''\n",
      "L'ordre est significatif\n",
      "\n",
      "- le nombre d'espaces doit \u00eatre respect\u00e9\n",
      "\n",
      "- *+ : pour n'importe quelle terminaison de mot: 'AIDE MEDIC******* PEDAGOGIQUE $3'\n",
      "\n",
      "- $, $2, $3 : peut \u00eatre suivi de 1, 2 ou 3 catacteres. Le code sera le m\u00eame.\n",
      "    (BLABLA $2 est correct pour: BLABLA BLABLA coucou, BLABLA coucou lala)\n",
      "    (STAGIAIRE ASSISTANTE SOCIAL $ matche \n",
      "'''\n",
      "referenciel = pd.DataFrame.from_csv('data/referentiel.csv', index_col=None, sep=';')"
     ],
     "language": "python",
     "metadata": {},
     "outputs": []
    },
    {
     "cell_type": "code",
     "collapsed": false,
     "input": [
      "synonymes = pd.DataFrame.from_csv('data/synonymes.csv', sep=';', index_col=None)\n",
      "''' \n",
      "Continent:\n",
      "- cas avec espaces qui correspontent \u00e0 un seul mot: 'A C;AC'\n",
      "\n",
      "- 5 lignes avec '$Z $X;$X', o\u00f9 X in [W,A,B,C,D]\n",
      "    $A=Cat\u00e9gorie A\n",
      "    $B=Cat\u00e9gorie B\n",
      "    $C=Cat\u00e9gorie C\n",
      "    $D=Cat\u00e9gorie D\n",
      "    $W=Agent du public avec n'importe quel grade d\u00e9clar\u00e9 en clair (autre que explicitement A, B, C ou D),\n",
      "    $Z= Absence de grade d\u00e9clar\u00e9.\n",
      "    A noter que $Z est le cas le plus g\u00e9n\u00e9ral, $W \u00e9tant un cas particulier/\n",
      "    $*=indiff\u00e9remment A, B, C, D, Z ou W.\n",
      "\n",
      "- des references aux categories\n",
      "    CATA;$A\n",
      "    CATEGORIEA;$A\n",
      "\n",
      "- expressions vides:\n",
      "    'H&;', 'AU;'\n",
      "\n",
      "- expressions avec wildcards:\n",
      "    'SANS QUALIF*:NQ', '**( SANS;**(', 'IND* 0*;'\n",
      "\n",
      "- CHERCHEUR ** ALLOC* RECHERC*\n",
      "\n",
      "Notes:\n",
      "- l'ordre des r\u00e8gles de normalisation est signifiante\n",
      "\n",
      "'''"
     ],
     "language": "python",
     "metadata": {},
     "outputs": []
    },
    {
     "cell_type": "code",
     "collapsed": false,
     "input": [
      "# 1. pre-normalisation: ignore chars, translit, upper case, \n",
      "# 2. synonymes\n",
      "# 3. post-normalisation: 6 mots max, 20 chars max par mot\n",
      "\n",
      "#HOTESSE D AIR -> HOTESSE AIR\n"
     ],
     "language": "python",
     "metadata": {},
     "outputs": []
    },
    {
     "cell_type": "code",
     "collapsed": false,
     "input": [
      "' () \u00db \u00c0 \u00ee \u00c2 \u00c7 exp2"
     ],
     "language": "python",
     "metadata": {},
     "outputs": []
    }
   ],
   "metadata": {}
  }
 ]
}